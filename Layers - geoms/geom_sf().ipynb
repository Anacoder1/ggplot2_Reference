{
 "cells": [
  {
   "cell_type": "code",
   "execution_count": 1,
   "metadata": {},
   "outputs": [
    {
     "name": "stderr",
     "output_type": "stream",
     "text": [
      "Warning message:\n",
      "\"package 'ggplot2' was built under R version 3.5.1\""
     ]
    }
   ],
   "source": [
    "library(ggplot2)"
   ]
  },
  {
   "cell_type": "code",
   "execution_count": 15,
   "metadata": {},
   "outputs": [],
   "source": [
    "if(requireNamespace(\"sf\", quietly = TRUE)) {\n",
    "    nc <- sf::st_read(system.file(\"shape/nc.shp\", package = \"sf\"),\n",
    "                      quiet = TRUE)\n",
    "    \n",
    "    ggplot(nc) +\n",
    "      geom_sf(aes(fill = AREA))\n",
    "\n",
    "   # If not supplied, coord_sf() will take the CRS from the first\n",
    "   # layer and automatically transform all other layers to use\n",
    "   # that CRS. This ensures that all data will correctly line up\n",
    "\n",
    "   nc_3857 <- sf::st_transform(nc, \"+init=epsg:3857\")\n",
    "\n",
    "   ggplot() +\n",
    "     geom_sf(data = nc) +\n",
    "     geom_sf(data = nc_3857, colour = \"red\", fill = NA)\n",
    "    \n",
    "   # Unfortunately if you plot other types of features, you'll\n",
    "   # need to use show.legend to tell ggplot2 what type of\n",
    "   # legend to use\n",
    "    \n",
    "   nc_3857$mid <- sf::st_centroid(nc_3857$geometry)\n",
    "    \n",
    "   ggplot(nc_3857) +\n",
    "     geom_sf(colour = \"white\") +\n",
    "     geom_sf(aes(geometry = mid, size = AREA), \n",
    "             show.legend = \"point\")\n",
    "    \n",
    "   # You can also use layers with x and y aesthetics: these\n",
    "   # are assumed to already be in the common CRS.\n",
    "    \n",
    "    ggplot(nc) +\n",
    "      geom_sf() +\n",
    "      annotate(\"point\", x = -80, y = 35, colour = \"red\",\n",
    "               size = 4)\n",
    "    \n",
    "    # Thanks to the power of sf, a geom_sf nicely handles\n",
    "    # varying projections setting the aspect ratio correctly.\n",
    "\n",
    "    library(maps)\n",
    "    world1 <- sf::st_as_sf(map('world', plot = FALSE,\n",
    "                               fill = TRUE))\n",
    "    \n",
    "    ggplot() + geom_sf(data = world1)\n",
    "    \n",
    "    world2 <- sf::st_transform(\n",
    "      world1,\n",
    "      \"+proj = laea +y_0 = 0 +lon_0 = 155 +lat_0 = -90 +ellps = WGS84 +no_defs\"\n",
    "    )\n",
    "    \n",
    "    ggplot() + geom_sf(data = world2)\n",
    "    \n",
    "    # To add labels, use geom_sf_label().\n",
    "    \n",
    "    ggplot(nc_3857[1:3, ]) +\n",
    "      geom_sf(aes(fill = AREA)) +\n",
    "      geom_sf_label(aes(label = NAME))\n",
    "}"
   ]
  },
  {
   "cell_type": "code",
   "execution_count": 16,
   "metadata": {},
   "outputs": [],
   "source": [
    "# Above code should output a plot\n",
    "# Refer https://ggplot2.tidyverse.org/reference/ggsf-1.png"
   ]
  }
 ],
 "metadata": {
  "kernelspec": {
   "display_name": "R",
   "language": "R",
   "name": "ir"
  },
  "language_info": {
   "codemirror_mode": "r",
   "file_extension": ".r",
   "mimetype": "text/x-r-source",
   "name": "R",
   "pygments_lexer": "r",
   "version": "3.5.0"
  }
 },
 "nbformat": 4,
 "nbformat_minor": 2
}
